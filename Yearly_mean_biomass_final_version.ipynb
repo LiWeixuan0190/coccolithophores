{
 "cells": [
  {
   "cell_type": "markdown",
   "id": "de2247db",
   "metadata": {},
   "source": [
    "## NetCDF"
   ]
  },
  {
   "cell_type": "code",
   "execution_count": null,
   "id": "05f38b59",
   "metadata": {},
   "outputs": [],
   "source": [
    "using Pkg; Pkg.add(\"NetCDF\")"
   ]
  },
  {
   "cell_type": "code",
   "execution_count": 1,
   "id": "1ff2e44c",
   "metadata": {},
   "outputs": [],
   "source": [
    "using NetCDF"
   ]
  },
  {
   "cell_type": "markdown",
   "id": "c7c4ac06",
   "metadata": {},
   "source": [
    "## Biomass file"
   ]
  },
  {
   "cell_type": "markdown",
   "id": "e0d8369e",
   "metadata": {},
   "source": [
    "### Description\n",
    "Model output for Dutkiewicz et al (BGD): nurtient_supply_rates.nc: Nutrient supplies are annual mean for the top 50m and are in units of mmol/m2/s biomass.nc Phytoplankton biomass is annual mean for top 10m and is units of mmolC/m3 Phytoplankton types arranged as follows: 1- 10: pico-phytoplankton, ESD 0.6um 11- 20: pico-phytoplankton, ESD 0.9um 21- 30: pico-phytoplankton, ESD 1.4um 31- 40: pico-phytoplankton, ESD 2.0um 41- 50: coccolithophores, ESD 3.0um 51- 60: coccolithophores, ESD 4.5um 61- 70: coccolithophores, ESD 6.6um 71- 80: coccolithophores, ESD 9.8um 81- 90: coccolithophores, ESD 14um 91- 50: diazotroph, ESD 3.0um 101-110: diazotroph, ESD 4.5um 111-120: diazotroph, ESD 6.6um 121-130: diazotroph, ESD 9.8um 131-140: diazotroph, ESD 14um 141-150: diatom, ESD 3.0um 151-160: diatom, ESD 4.5um 161-170: diatom, ESD 6.6um 171-180: diatom, ESD 9.8um 181-190: diatom, ESD 14um 191-200: diatom, ESD 22um 201-210: diatom, ESD 32um 211-220: diatom, ESD 47um 221-230: diatom, ESD 70um 231-240: diatom, ESD 104um 241-250: diatom, ESD 154um 251-260: mixotroph, ESD 6.6um 261-270: mixotroph, ESD 9.8um 271-280: mixotroph, ESD 14um 281-290: mixotroph, ESD 22um 291-300: mixotroph, ESD 32um 301-310: mixotroph, ESD 47um 311-320: mixotroph, ESD 70um 321-330: mixotroph, ESD 104um 331-340: mixotroph, ESD 154um 341-350: mixotroph, ESD 228um\n",
    "\n",
    "41-50 from the coldest thermal norm to the warmest thermal norm"
   ]
  },
  {
   "cell_type": "code",
   "execution_count": 2,
   "id": "3f1db182",
   "metadata": {},
   "outputs": [
    {
     "data": {
      "text/plain": [
       "\"ncdata/biomass.nc\""
      ]
     },
     "execution_count": 2,
     "metadata": {},
     "output_type": "execute_result"
    }
   ],
   "source": [
    "biomass = \"ncdata/biomass.nc\""
   ]
  },
  {
   "cell_type": "code",
   "execution_count": 3,
   "id": "2c4c8ae0",
   "metadata": {},
   "outputs": [
    {
     "name": "stdout",
     "output_type": "stream",
     "text": [
      "\n",
      "##### NetCDF File #####\n",
      "\n",
      "/home/weixuan/ncdata/biomass.nc\n",
      "\n",
      "##### Dimensions #####\n",
      "\n",
      "Name                                                Length                    \n",
      "--------------------------------------------------------------------------------\n",
      "latitude                                            160                       \n",
      "longitude                                           360                       \n",
      "PhyNum                                              350                       \n",
      "\n",
      "##### Variables #####\n",
      "\n",
      "Name                            Type            Dimensions                      \n",
      "--------------------------------------------------------------------------------\n",
      "CarbonBiomass                   DOUBLE          PhyNum longitude latitude       \n",
      "latitude                        DOUBLE          latitude                        \n",
      "longitude                       DOUBLE          longitude                       \n",
      "PhyNum                          DOUBLE          PhyNum                          \n",
      "\n",
      "##### Attributes #####\n",
      "\n",
      "Variable            Name                Value                                   \n",
      "--------------------------------------------------------------------------------\n"
     ]
    }
   ],
   "source": [
    "ncinfo(biomass)"
   ]
  },
  {
   "cell_type": "code",
   "execution_count": 4,
   "id": "adf7a21e",
   "metadata": {},
   "outputs": [
    {
     "data": {
      "text/plain": [
       "350×360×160 Array{Float64, 3}:\n",
       "[:, :, 1] =\n",
       " 0.0  0.0  0.0  0.0  0.0  0.0  0.0  0.0  …  0.0  0.0  0.0  0.0  0.0  0.0  0.0\n",
       " 0.0  0.0  0.0  0.0  0.0  0.0  0.0  0.0     0.0  0.0  0.0  0.0  0.0  0.0  0.0\n",
       " 0.0  0.0  0.0  0.0  0.0  0.0  0.0  0.0     0.0  0.0  0.0  0.0  0.0  0.0  0.0\n",
       " 0.0  0.0  0.0  0.0  0.0  0.0  0.0  0.0     0.0  0.0  0.0  0.0  0.0  0.0  0.0\n",
       " 0.0  0.0  0.0  0.0  0.0  0.0  0.0  0.0     0.0  0.0  0.0  0.0  0.0  0.0  0.0\n",
       " 0.0  0.0  0.0  0.0  0.0  0.0  0.0  0.0  …  0.0  0.0  0.0  0.0  0.0  0.0  0.0\n",
       " 0.0  0.0  0.0  0.0  0.0  0.0  0.0  0.0     0.0  0.0  0.0  0.0  0.0  0.0  0.0\n",
       " 0.0  0.0  0.0  0.0  0.0  0.0  0.0  0.0     0.0  0.0  0.0  0.0  0.0  0.0  0.0\n",
       " 0.0  0.0  0.0  0.0  0.0  0.0  0.0  0.0     0.0  0.0  0.0  0.0  0.0  0.0  0.0\n",
       " 0.0  0.0  0.0  0.0  0.0  0.0  0.0  0.0     0.0  0.0  0.0  0.0  0.0  0.0  0.0\n",
       " 0.0  0.0  0.0  0.0  0.0  0.0  0.0  0.0  …  0.0  0.0  0.0  0.0  0.0  0.0  0.0\n",
       " 0.0  0.0  0.0  0.0  0.0  0.0  0.0  0.0     0.0  0.0  0.0  0.0  0.0  0.0  0.0\n",
       " 0.0  0.0  0.0  0.0  0.0  0.0  0.0  0.0     0.0  0.0  0.0  0.0  0.0  0.0  0.0\n",
       " ⋮                        ⋮              ⋱            ⋮                   \n",
       " 0.0  0.0  0.0  0.0  0.0  0.0  0.0  0.0     0.0  0.0  0.0  0.0  0.0  0.0  0.0\n",
       " 0.0  0.0  0.0  0.0  0.0  0.0  0.0  0.0     0.0  0.0  0.0  0.0  0.0  0.0  0.0\n",
       " 0.0  0.0  0.0  0.0  0.0  0.0  0.0  0.0  …  0.0  0.0  0.0  0.0  0.0  0.0  0.0\n",
       " 0.0  0.0  0.0  0.0  0.0  0.0  0.0  0.0     0.0  0.0  0.0  0.0  0.0  0.0  0.0\n",
       " 0.0  0.0  0.0  0.0  0.0  0.0  0.0  0.0     0.0  0.0  0.0  0.0  0.0  0.0  0.0\n",
       " 0.0  0.0  0.0  0.0  0.0  0.0  0.0  0.0     0.0  0.0  0.0  0.0  0.0  0.0  0.0\n",
       " 0.0  0.0  0.0  0.0  0.0  0.0  0.0  0.0     0.0  0.0  0.0  0.0  0.0  0.0  0.0\n",
       " 0.0  0.0  0.0  0.0  0.0  0.0  0.0  0.0  …  0.0  0.0  0.0  0.0  0.0  0.0  0.0\n",
       " 0.0  0.0  0.0  0.0  0.0  0.0  0.0  0.0     0.0  0.0  0.0  0.0  0.0  0.0  0.0\n",
       " 0.0  0.0  0.0  0.0  0.0  0.0  0.0  0.0     0.0  0.0  0.0  0.0  0.0  0.0  0.0\n",
       " 0.0  0.0  0.0  0.0  0.0  0.0  0.0  0.0     0.0  0.0  0.0  0.0  0.0  0.0  0.0\n",
       " 0.0  0.0  0.0  0.0  0.0  0.0  0.0  0.0     0.0  0.0  0.0  0.0  0.0  0.0  0.0\n",
       "\n",
       "[:, :, 2] =\n",
       " 0.0  0.0  0.0  0.0  0.0  0.0  0.0  0.0  …  0.0  0.0  0.0  0.0  0.0  0.0  0.0\n",
       " 0.0  0.0  0.0  0.0  0.0  0.0  0.0  0.0     0.0  0.0  0.0  0.0  0.0  0.0  0.0\n",
       " 0.0  0.0  0.0  0.0  0.0  0.0  0.0  0.0     0.0  0.0  0.0  0.0  0.0  0.0  0.0\n",
       " 0.0  0.0  0.0  0.0  0.0  0.0  0.0  0.0     0.0  0.0  0.0  0.0  0.0  0.0  0.0\n",
       " 0.0  0.0  0.0  0.0  0.0  0.0  0.0  0.0     0.0  0.0  0.0  0.0  0.0  0.0  0.0\n",
       " 0.0  0.0  0.0  0.0  0.0  0.0  0.0  0.0  …  0.0  0.0  0.0  0.0  0.0  0.0  0.0\n",
       " 0.0  0.0  0.0  0.0  0.0  0.0  0.0  0.0     0.0  0.0  0.0  0.0  0.0  0.0  0.0\n",
       " 0.0  0.0  0.0  0.0  0.0  0.0  0.0  0.0     0.0  0.0  0.0  0.0  0.0  0.0  0.0\n",
       " 0.0  0.0  0.0  0.0  0.0  0.0  0.0  0.0     0.0  0.0  0.0  0.0  0.0  0.0  0.0\n",
       " 0.0  0.0  0.0  0.0  0.0  0.0  0.0  0.0     0.0  0.0  0.0  0.0  0.0  0.0  0.0\n",
       " 0.0  0.0  0.0  0.0  0.0  0.0  0.0  0.0  …  0.0  0.0  0.0  0.0  0.0  0.0  0.0\n",
       " 0.0  0.0  0.0  0.0  0.0  0.0  0.0  0.0     0.0  0.0  0.0  0.0  0.0  0.0  0.0\n",
       " 0.0  0.0  0.0  0.0  0.0  0.0  0.0  0.0     0.0  0.0  0.0  0.0  0.0  0.0  0.0\n",
       " ⋮                        ⋮              ⋱            ⋮                   \n",
       " 0.0  0.0  0.0  0.0  0.0  0.0  0.0  0.0     0.0  0.0  0.0  0.0  0.0  0.0  0.0\n",
       " 0.0  0.0  0.0  0.0  0.0  0.0  0.0  0.0     0.0  0.0  0.0  0.0  0.0  0.0  0.0\n",
       " 0.0  0.0  0.0  0.0  0.0  0.0  0.0  0.0  …  0.0  0.0  0.0  0.0  0.0  0.0  0.0\n",
       " 0.0  0.0  0.0  0.0  0.0  0.0  0.0  0.0     0.0  0.0  0.0  0.0  0.0  0.0  0.0\n",
       " 0.0  0.0  0.0  0.0  0.0  0.0  0.0  0.0     0.0  0.0  0.0  0.0  0.0  0.0  0.0\n",
       " 0.0  0.0  0.0  0.0  0.0  0.0  0.0  0.0     0.0  0.0  0.0  0.0  0.0  0.0  0.0\n",
       " 0.0  0.0  0.0  0.0  0.0  0.0  0.0  0.0     0.0  0.0  0.0  0.0  0.0  0.0  0.0\n",
       " 0.0  0.0  0.0  0.0  0.0  0.0  0.0  0.0  …  0.0  0.0  0.0  0.0  0.0  0.0  0.0\n",
       " 0.0  0.0  0.0  0.0  0.0  0.0  0.0  0.0     0.0  0.0  0.0  0.0  0.0  0.0  0.0\n",
       " 0.0  0.0  0.0  0.0  0.0  0.0  0.0  0.0     0.0  0.0  0.0  0.0  0.0  0.0  0.0\n",
       " 0.0  0.0  0.0  0.0  0.0  0.0  0.0  0.0     0.0  0.0  0.0  0.0  0.0  0.0  0.0\n",
       " 0.0  0.0  0.0  0.0  0.0  0.0  0.0  0.0     0.0  0.0  0.0  0.0  0.0  0.0  0.0\n",
       "\n",
       "[:, :, 3] =\n",
       " 0.0  0.0  0.0  0.0  0.0  0.0  0.0  0.0  …  0.0  0.0  0.0  0.0  0.0  0.0  0.0\n",
       " 0.0  0.0  0.0  0.0  0.0  0.0  0.0  0.0     0.0  0.0  0.0  0.0  0.0  0.0  0.0\n",
       " 0.0  0.0  0.0  0.0  0.0  0.0  0.0  0.0     0.0  0.0  0.0  0.0  0.0  0.0  0.0\n",
       " 0.0  0.0  0.0  0.0  0.0  0.0  0.0  0.0     0.0  0.0  0.0  0.0  0.0  0.0  0.0\n",
       " 0.0  0.0  0.0  0.0  0.0  0.0  0.0  0.0     0.0  0.0  0.0  0.0  0.0  0.0  0.0\n",
       " 0.0  0.0  0.0  0.0  0.0  0.0  0.0  0.0  …  0.0  0.0  0.0  0.0  0.0  0.0  0.0\n",
       " 0.0  0.0  0.0  0.0  0.0  0.0  0.0  0.0     0.0  0.0  0.0  0.0  0.0  0.0  0.0\n",
       " 0.0  0.0  0.0  0.0  0.0  0.0  0.0  0.0     0.0  0.0  0.0  0.0  0.0  0.0  0.0\n",
       " 0.0  0.0  0.0  0.0  0.0  0.0  0.0  0.0     0.0  0.0  0.0  0.0  0.0  0.0  0.0\n",
       " 0.0  0.0  0.0  0.0  0.0  0.0  0.0  0.0     0.0  0.0  0.0  0.0  0.0  0.0  0.0\n",
       " 0.0  0.0  0.0  0.0  0.0  0.0  0.0  0.0  …  0.0  0.0  0.0  0.0  0.0  0.0  0.0\n",
       " 0.0  0.0  0.0  0.0  0.0  0.0  0.0  0.0     0.0  0.0  0.0  0.0  0.0  0.0  0.0\n",
       " 0.0  0.0  0.0  0.0  0.0  0.0  0.0  0.0     0.0  0.0  0.0  0.0  0.0  0.0  0.0\n",
       " ⋮                        ⋮              ⋱            ⋮                   \n",
       " 0.0  0.0  0.0  0.0  0.0  0.0  0.0  0.0     0.0  0.0  0.0  0.0  0.0  0.0  0.0\n",
       " 0.0  0.0  0.0  0.0  0.0  0.0  0.0  0.0     0.0  0.0  0.0  0.0  0.0  0.0  0.0\n",
       " 0.0  0.0  0.0  0.0  0.0  0.0  0.0  0.0  …  0.0  0.0  0.0  0.0  0.0  0.0  0.0\n",
       " 0.0  0.0  0.0  0.0  0.0  0.0  0.0  0.0     0.0  0.0  0.0  0.0  0.0  0.0  0.0\n",
       " 0.0  0.0  0.0  0.0  0.0  0.0  0.0  0.0     0.0  0.0  0.0  0.0  0.0  0.0  0.0\n",
       " 0.0  0.0  0.0  0.0  0.0  0.0  0.0  0.0     0.0  0.0  0.0  0.0  0.0  0.0  0.0\n",
       " 0.0  0.0  0.0  0.0  0.0  0.0  0.0  0.0     0.0  0.0  0.0  0.0  0.0  0.0  0.0\n",
       " 0.0  0.0  0.0  0.0  0.0  0.0  0.0  0.0  …  0.0  0.0  0.0  0.0  0.0  0.0  0.0\n",
       " 0.0  0.0  0.0  0.0  0.0  0.0  0.0  0.0     0.0  0.0  0.0  0.0  0.0  0.0  0.0\n",
       " 0.0  0.0  0.0  0.0  0.0  0.0  0.0  0.0     0.0  0.0  0.0  0.0  0.0  0.0  0.0\n",
       " 0.0  0.0  0.0  0.0  0.0  0.0  0.0  0.0     0.0  0.0  0.0  0.0  0.0  0.0  0.0\n",
       " 0.0  0.0  0.0  0.0  0.0  0.0  0.0  0.0     0.0  0.0  0.0  0.0  0.0  0.0  0.0\n",
       "\n",
       ";;; … \n",
       "\n",
       "[:, :, 158] =\n",
       " 1.74286e-12  1.0253e-12   7.12934e-13  …  9.26385e-12  3.61843e-12\n",
       " 0.00379117   0.0035926    0.00343554      0.00425492   0.00400974\n",
       " 0.0314166    0.0310312    0.0300548       0.0305902    0.0311976\n",
       " 0.0112992    0.0138831    0.0160034       0.0060868    0.00856869\n",
       " 6.81097e-9   1.12615e-8   1.71177e-8      2.33298e-9   4.04041e-9\n",
       " 1.35972e-17  1.82767e-17  2.40999e-17  …  7.05115e-18  9.92719e-18\n",
       " 7.461e-19    7.34012e-19  7.24799e-19     7.64768e-19  7.57391e-19\n",
       " 7.13788e-19  7.00409e-19  6.89515e-19     7.34251e-19  7.26023e-19\n",
       " 7.10621e-19  6.96875e-19  6.85602e-19     7.31736e-19  7.23186e-19\n",
       " 7.10471e-19  6.96697e-19  6.85396e-19     7.31633e-19  7.2306e-19\n",
       " 2.75987e-11  1.53604e-11  1.02508e-11  …  1.61001e-10  6.04692e-11\n",
       " 0.00380386   0.00341269   0.00307411      0.00475087   0.00424828\n",
       " 0.0514196    0.0495446    0.0464818       0.0524281    0.0522685\n",
       " ⋮                                      ⋱               \n",
       " 7.15166e-21  7.08286e-21  6.88038e-21     6.8157e-21   7.059e-21\n",
       " 7.1504e-21   7.0816e-21   6.87913e-21     6.8145e-21   7.05776e-21\n",
       " 4.43408e-21  4.41651e-21  4.35365e-21  …  4.265e-21    4.3644e-21\n",
       " 6.10669e-21  6.06738e-21  5.97381e-21     5.93284e-21  6.0364e-21\n",
       " 6.54657e-21  6.52451e-21  6.44202e-21     6.32159e-21  6.45351e-21\n",
       " 4.52432e-21  4.59942e-21  4.62587e-21     4.18439e-21  4.37271e-21\n",
       " 1.96198e-21  2.01735e-21  2.04428e-21     1.75254e-21  1.86823e-21\n",
       " 1.32071e-21  1.36142e-21  1.3829e-21   …  1.17101e-21  1.2531e-21\n",
       " 1.27341e-21  1.31318e-21  1.33495e-21     1.12844e-21  1.20784e-21\n",
       " 1.25639e-21  1.29546e-21  1.3169e-21      1.11354e-21  1.19183e-21\n",
       " 1.25351e-21  1.29243e-21  1.31377e-21     1.11105e-21  1.18914e-21\n",
       " 1.25347e-21  1.29239e-21  1.31373e-21     1.11102e-21  1.18911e-21\n",
       "\n",
       "[:, :, 159] =\n",
       " 1.75281e-12  8.69622e-13  5.91467e-13  …  1.48744e-11  5.07389e-12\n",
       " 0.00596569   0.00597431   0.00601892      0.00592501   0.00596145\n",
       " 0.0280162    0.0282479    0.0280959       0.0264503    0.0273198\n",
       " 0.0044939    0.00537906   0.00608447      0.00261058   0.0034686\n",
       " 7.75566e-9   1.06358e-8   1.4125e-8       3.67669e-9   5.44049e-9\n",
       " 5.54367e-18  7.06573e-18  8.82907e-18  …  3.32909e-18  4.30275e-18\n",
       " 6.66084e-19  6.62814e-19  6.59562e-19     6.72949e-19  6.699e-19\n",
       " 6.31279e-19  6.26756e-19  6.21998e-19     6.40328e-19  6.36222e-19\n",
       " 6.28428e-19  6.23672e-19  6.18685e-19     6.37955e-19  6.33607e-19\n",
       " 6.28308e-19  6.23538e-19  6.18537e-19     6.37865e-19  6.33502e-19\n",
       " 2.96892e-11  1.31986e-11  8.20093e-12  …  2.77734e-10  9.36311e-11\n",
       " 0.00667883   0.00638454   0.00608222      0.00718743   0.00696194\n",
       " 0.0458719    0.044307     0.041708        0.0462071    0.0463247\n",
       " ⋮                                      ⋱               \n",
       " 4.20661e-21  4.37861e-21  4.41214e-21     3.39161e-21  3.85505e-21\n",
       " 4.20573e-21  4.3777e-21   4.41123e-21     3.39089e-21  3.85424e-21\n",
       " 3.27144e-21  3.40176e-21  3.45058e-21  …  2.70997e-21  3.01301e-21\n",
       " 4.64043e-21  4.81364e-21  4.87373e-21     3.85006e-21  4.2803e-21\n",
       " 4.9968e-21   5.20924e-21  5.29388e-21     4.06905e-21  4.57578e-21\n",
       " 3.3527e-21   3.58997e-21  3.74039e-21     2.57275e-21  2.98939e-21\n",
       " 1.33995e-21  1.45174e-21  1.52727e-21     1.00636e-21  1.18341e-21\n",
       " 9.18991e-22  9.96739e-22  1.05131e-21  …  6.93143e-22  8.12298e-22\n",
       " 8.91497e-22  9.67369e-22  1.02114e-21     6.72444e-22  7.87856e-22\n",
       " 8.79879e-22  9.54827e-22  1.00808e-21     6.63803e-22  7.77608e-22\n",
       " 8.7783e-22   9.52602e-22  1.00575e-21     6.62297e-22  7.75812e-22\n",
       " 8.77804e-22  9.52574e-22  1.00572e-21     6.62277e-22  7.75788e-22\n",
       "\n",
       "[:, :, 160] =\n",
       " 2.38841e-12  1.21568e-12  7.54461e-13  …  2.53012e-11  6.01911e-12\n",
       " 0.00809448   0.00833378   0.00864844      0.00664352   0.00778482\n",
       " 0.0226433    0.0229571    0.0233273       0.018937     0.0220412\n",
       " 0.00134829   0.00155387   0.00176191      0.000849834  0.00114583\n",
       " 3.62871e-9   4.80042e-9   6.17497e-9      1.97542e-9   2.69722e-9\n",
       " 2.11427e-18  2.47104e-18  2.90391e-18  …  1.68141e-18  1.85489e-18\n",
       " 5.91212e-19  5.86134e-19  5.80227e-19     6.13144e-19  5.96884e-19\n",
       " 5.60186e-19  5.54032e-19  5.47216e-19     5.83354e-19  5.66802e-19\n",
       " 5.58257e-19  5.51959e-19  5.45023e-19     5.81642e-19  5.65006e-19\n",
       " 5.58198e-19  5.51892e-19  5.4495e-19      5.81594e-19  5.64953e-19\n",
       " 3.88713e-11  1.76571e-11  9.55201e-12  …  5.07211e-10  1.0674e-10\n",
       " 0.00906274   0.00909463   0.00915493      0.00774542   0.00894898\n",
       " 0.0334298    0.03278      0.0320865       0.0292361    0.0335315\n",
       " ⋮                                      ⋱               \n",
       " 2.32888e-21  2.3503e-21   2.33075e-21     1.99004e-21  2.1454e-21\n",
       " 2.32837e-21  2.34978e-21  2.33024e-21     1.98962e-21  2.14494e-21\n",
       " 2.21633e-21  2.19681e-21  2.18835e-21  …  1.97696e-21  2.09261e-21\n",
       " 3.21174e-21  3.18318e-21  3.1696e-21      2.84627e-21  3.02929e-21\n",
       " 3.38866e-21  3.38783e-21  3.38791e-21     2.8988e-21   3.14628e-21\n",
       " 2.00269e-21  2.076e-21    2.11386e-21     1.56773e-21  1.76961e-21\n",
       " 7.27472e-22  7.65534e-22  7.87848e-22     5.61279e-22  6.35589e-22\n",
       " 5.09894e-22  5.37028e-22  5.53634e-22  …  3.94629e-22  4.46037e-22\n",
       " 4.96573e-22  5.23194e-22  5.39612e-22     3.84125e-22  4.34262e-22\n",
       " 4.9061e-22   5.16915e-22  5.33173e-22     3.79594e-22  4.29072e-22\n",
       " 4.89556e-22  5.158e-22    5.32027e-22     3.78803e-22  4.2816e-22\n",
       " 4.89543e-22  5.15786e-22  5.32012e-22     3.78793e-22  4.28149e-22"
      ]
     },
     "execution_count": 4,
     "metadata": {},
     "output_type": "execute_result"
    }
   ],
   "source": [
    "cb=ncread(biomass,\"CarbonBiomass\")"
   ]
  },
  {
   "cell_type": "code",
   "execution_count": 5,
   "id": "41ff5c6d",
   "metadata": {},
   "outputs": [
    {
     "data": {
      "text/plain": [
       "360-element Vector{Float64}:\n",
       "   0.5\n",
       "   1.5\n",
       "   2.5\n",
       "   3.5\n",
       "   4.5\n",
       "   5.5\n",
       "   6.5\n",
       "   7.5\n",
       "   8.5\n",
       "   9.5\n",
       "  10.5\n",
       "  11.5\n",
       "  12.5\n",
       "   ⋮\n",
       " 348.5\n",
       " 349.5\n",
       " 350.5\n",
       " 351.5\n",
       " 352.5\n",
       " 353.5\n",
       " 354.5\n",
       " 355.5\n",
       " 356.5\n",
       " 357.5\n",
       " 358.5\n",
       " 359.5"
      ]
     },
     "execution_count": 5,
     "metadata": {},
     "output_type": "execute_result"
    }
   ],
   "source": [
    "lon=ncread(biomass,\"longitude\")"
   ]
  },
  {
   "cell_type": "code",
   "execution_count": 6,
   "id": "8eaba672",
   "metadata": {},
   "outputs": [
    {
     "data": {
      "text/plain": [
       "160-element Vector{Float64}:\n",
       " -79.5\n",
       " -78.5\n",
       " -77.5\n",
       " -76.5\n",
       " -75.5\n",
       " -74.5\n",
       " -73.5\n",
       " -72.5\n",
       " -71.5\n",
       " -70.5\n",
       " -69.5\n",
       " -68.5\n",
       " -67.5\n",
       "   ⋮\n",
       "  68.5\n",
       "  69.5\n",
       "  70.5\n",
       "  71.5\n",
       "  72.5\n",
       "  73.5\n",
       "  74.5\n",
       "  75.5\n",
       "  76.5\n",
       "  77.5\n",
       "  78.5\n",
       "  79.5"
      ]
     },
     "execution_count": 6,
     "metadata": {},
     "output_type": "execute_result"
    }
   ],
   "source": [
    "lat=ncread(biomass,\"latitude\")"
   ]
  },
  {
   "cell_type": "markdown",
   "id": "3663c8d6",
   "metadata": {},
   "source": [
    "### Plots"
   ]
  },
  {
   "cell_type": "code",
   "execution_count": 8,
   "id": "5df5a4bd",
   "metadata": {},
   "outputs": [
    {
     "ename": "LoadError",
     "evalue": "UndefVarError: Pkg not defined",
     "output_type": "error",
     "traceback": [
      "UndefVarError: Pkg not defined",
      "",
      "Stacktrace:",
      " [1] top-level scope",
      "   @ In[8]:1"
     ]
    }
   ],
   "source": [
    "Pkg.add(\"Plots\")"
   ]
  },
  {
   "cell_type": "code",
   "execution_count": 10,
   "id": "c545b65b",
   "metadata": {},
   "outputs": [
    {
     "data": {
      "text/plain": [
       "\"~/.conda/envs/juliaup2/bin\""
      ]
     },
     "execution_count": 10,
     "metadata": {},
     "output_type": "execute_result"
    }
   ],
   "source": [
    "ENV[\"LD_LIBRARY_PATH\"]=\"~/.conda/envs/juliaup2/bin\""
   ]
  },
  {
   "cell_type": "code",
   "execution_count": 11,
   "id": "5cd02757",
   "metadata": {},
   "outputs": [],
   "source": [
    "using Plots"
   ]
  },
  {
   "cell_type": "markdown",
   "id": "59d827fe",
   "metadata": {},
   "source": [
    "### Biomass vs latitude at six longitude points"
   ]
  },
  {
   "cell_type": "code",
   "execution_count": 12,
   "id": "d9339090",
   "metadata": {},
   "outputs": [],
   "source": [
    "for n in 1:5\n",
    "for i in 1:6\n",
    "    bm = cb[41:50,i*60,:]\n",
    "    bm = transpose(bm)\n",
    "        if n == 1\n",
    "            size = 3\n",
    "        elseif n ==2\n",
    "            size = 4.5\n",
    "        elseif n == 3\n",
    "            size = 6.6\n",
    "        elseif n == 4\n",
    "            size = 9.8\n",
    "        elseif n == 5\n",
    "            size = 14\n",
    "        end     \n",
    "    label1 = \"cocoo\"*string(n*10+30+1)\n",
    "    label2 = \"cocoo\"*string(n*10+30+2)\n",
    "    label3 = \"cocoo\"*string(n*10+30+3)\n",
    "    label4 = \"cocoo\"*string(n*10+30+4)\n",
    "    label5 = \"cocoo\"*string(n*10+30+5)\n",
    "    label6 = \"cocoo\"*string(n*10+30+6)\n",
    "    label7 = \"cocoo\"*string(n*10+30+7)\n",
    "    label8 = \"cocoo\"*string(n*10+30+8)\n",
    "    label9 = \"cocoo\"*string(n*10+30+9)\n",
    "    label10 = \"cocoo\"*string(n*10+30+10)\n",
    "    p=plot(lat,bm,title = \"Yearly mean biomass of \"*string(size)*\"\\u03bcm coccolithophores with different thermal types \\n at longitude \"*string(lon[i*60])*\"°E\", \n",
    "    titlefontsize = 9,\n",
    "    label = [label1 label2 label3 label4 label5 label6 label7 label8 label9 label10],\n",
    "    #label = [\"cocoo\"*string(n*10+30+1) \"cocco\"*string(n*10+30+2) \"cocco\"*string(n*10+30+3) \n",
    "    #                       \"cocco\"*string(n*10+30+4) \"cocco\"*string(n*10+30+5) \"cocco\"*string(n*10+30+6)\n",
    "    #                      \"cocco\"*string(n*10+30+7) \"cocco\"*string(n*10+30+8) \"cocco\"*string(n*10+30+9) \n",
    "    #                     \"cocco\"*string(n*10+30+10)],\n",
    "    color = [:blue2 :royalblue :skyblue :darkslategray1 :green :lime :yellow1 :orange :red1 :firebrick],\n",
    "    lw=3,xlabel=\"latitude\",ylabel=\"biomass (\\$mmol\\$ \\$C\\$ \\$m^{-3}\\$)\")\n",
    "    if i == 4 || i == 5 || i ==6\n",
    "        title!(\"Yearly mean biomass of \"*string(size)*\"\\u03bcm coccolithophores with different thermal types \\n at longitude \"*string(360-lon[i*60])*\"°W\")\n",
    "    end\n",
    "    if i == 6\n",
    "        plot!(p,legend=:topleft)\n",
    "    end\n",
    "    if i == 5\n",
    "         plot!(p,legend=:top)\n",
    "    end\n",
    "    savefig(p,\"/home/weixuan/Desktop/Jupyter notebook/biomass results/Bio_lat/Yearly mean biomass of \"*string(size)*\"\\u03bcm cocco\"*string(lon[i*60])*\" lat.png\")\n",
    "end\n",
    "end"
   ]
  },
  {
   "cell_type": "markdown",
   "id": "8afeb374",
   "metadata": {},
   "source": [
    "### Biomass vs longitude at six latitude points"
   ]
  },
  {
   "cell_type": "code",
   "execution_count": 13,
   "id": "ed67cd8d",
   "metadata": {},
   "outputs": [],
   "source": [
    "lon1 = copy(lon)\n",
    "lon1[1:180]=-(360 .- lon[181:360])\n",
    "lon1[181:360]=lon[1:180]\n",
    "for n in 1:5\n",
    "for i in 1:6\n",
    "    bm = cb[41:50,:,i*10+80]\n",
    "    bm1 = copy(bm)\n",
    "    bm1[:,1:180]=bm[:,181:360]\n",
    "    bm1[:,181:360]=bm[:,1:180]\n",
    "    bm1 = transpose(bm1)\n",
    "     if n == 1\n",
    "            size = 3\n",
    "        elseif n ==2\n",
    "            size = 4.5\n",
    "        elseif n == 3\n",
    "            size = 6.6\n",
    "        elseif n == 4\n",
    "            size = 9.8\n",
    "        elseif n == 5\n",
    "            size = 14\n",
    "        end     \n",
    "    label1 = \"cocoo\"*string(n*10+30+1)\n",
    "    label2 = \"cocoo\"*string(n*10+30+2)\n",
    "    label3 = \"cocoo\"*string(n*10+30+3)\n",
    "    label4 = \"cocoo\"*string(n*10+30+4)\n",
    "    label5 = \"cocoo\"*string(n*10+30+5)\n",
    "    label6 = \"cocoo\"*string(n*10+30+6)\n",
    "    label7 = \"cocoo\"*string(n*10+30+7)\n",
    "    label8 = \"cocoo\"*string(n*10+30+8)\n",
    "    label9 = \"cocoo\"*string(n*10+30+9)\n",
    "    label10 = \"cocoo\"*string(n*10+30+10)\n",
    "    p=plot(lon1,bm1,title = \"Yearly mean biomass of \"*string(size)*\"\\u03bcm coccolithophores with different thermal types \\n at latitude \"*string(lat[i*10+80])*\"°N\", \n",
    "    titlefontsize = 9,\n",
    "    label = [label1 label2 label3 label4 label5 label6 label7 label8 label9 label10],\n",
    "    color = [:blue2 :royalblue :skyblue :darkslategray1 :green :lime :yellow1 :orange :red1 :firebrick],\n",
    "    lw=3,xlabel=\"longitude\",ylabel=\"biomass (\\$mmol\\$ \\$C\\$ \\$m^{-3}\\$)\")\n",
    "    savefig(p,\"/home/weixuan/Desktop/Jupyter notebook/biomass results/Bio_lon/Yearly mean biomass of \"*string(size)*\"\\u03bcm cocco\"*string(lat[i*10+80])*\" lon.png\")\n",
    "end\n",
    "end"
   ]
  },
  {
   "cell_type": "markdown",
   "id": "21c4d985",
   "metadata": {},
   "source": [
    "### Biomass vs latitude at BATS points (size-shape, thermal-color)"
   ]
  },
  {
   "cell_type": "code",
   "execution_count": 14,
   "id": "50dbb3ef",
   "metadata": {},
   "outputs": [],
   "source": [
    "ShapeMarker = [:circle :diamond :rect :cross :x]\n",
    "lo=[295.5,294.5,292.5,290.5,289.5,288.5]\n",
    "p=plot([1,2],[3,4])\n",
    "for i in 1:6\n",
    "    index_lon = findall(x->x==lo[i], lon)\n",
    "    for j in 1:5\n",
    "        bm = cb[31+j*10:40+j*10,index_lon[1],:]\n",
    "        bm = transpose(bm) \n",
    "        if j==1\n",
    "          p=plot(lat,bm,title = \"Yearly mean biomass of coccolithophores with different sizes and different \\n thermal types at longitude \"*string(360-lo[i])*\"°W\", \n",
    "          titlefontsize = 9, seriestype=:scatter, shape=ShapeMarker[j], \n",
    "          label = [\"thermal1\" \"thermal2\" \"thermal3\" \"thermal4\" \"thermal5\" \"thermal6\" \"thermal7\" \"thermal8\" \"thermal9\" \"thermal10\"],\n",
    "          color = [:blue2 :royalblue :skyblue :darkslategray1 :green :lime :yellow1 :orange :red1 :firebrick],\n",
    "          lw=3,xlabel=\"latitude\",ylabel=\"biomass (\\$mmol\\$ \\$C\\$ \\$m^{-3}\\$)\")\n",
    "        else\n",
    "          plot!(p,lat,bm,title = \"Yearly mean biomass of coccolithophores with different sizes and different \\n thermal types at longitude \"*string(360-lo[i])*\"°W\", \n",
    "          titlefontsize = 9, seriestype=:scatter, shape=ShapeMarker[j], label = \"\",\n",
    "          color = [:blue2 :royalblue :skyblue :darkslategray1 :green :lime :yellow1 :orange :red1 :firebrick],\n",
    "          lw=3,xlabel=\"latitude\",ylabel=\"biomass (\\$mmol\\$ \\$C\\$ \\$m^{-3}\\$)\")\n",
    "        end\n",
    "    end\n",
    "    savefig(p,\"/home/weixuan/Desktop/Jupyter notebook/biomass results/Bio_lat/BATS/Yearly mean biomass of coccolithophores with different sizes and different thermal types at longitude \"*string(360-lo[i])*\"°W.png\")\n",
    "end"
   ]
  },
  {
   "cell_type": "markdown",
   "id": "65d35c54",
   "metadata": {},
   "source": [
    "### Sum of biomass vs latitudes at BATS points"
   ]
  },
  {
   "cell_type": "code",
   "execution_count": 16,
   "id": "eacad78d",
   "metadata": {},
   "outputs": [],
   "source": [
    "lo=[295.5,294.5,292.5,290.5,289.5,288.5]\n",
    "for i in 1:6\n",
    "    index_lon = findall(x->x==lo[i], lon)\n",
    "        bm = cb[41:90,index_lon[1],:]\n",
    "        bm = sum(bm,dims=1)\n",
    "        bm = transpose(bm) \n",
    "        p=plot(lat,bm,title = \"Sum coccolithophores between all size classes and thermal types \\n at longitude \"*string(360-lo[i])*\"°W\", \n",
    "          titlefontsize = 10, label=\"\",\n",
    "          color = :black,\n",
    "          lw=2,xlabel=\"latitude\",ylabel=\"biomass (\\$mmol\\$ \\$C\\$ \\$m^{-3}\\$)\")\n",
    "    savefig(p,\"/home/weixuan/Desktop/Jupyter notebook/biomass results/Bio_lat/sum/Sum coccolithophores between all size classes and thermal types at longitude \"*string(360-lo[i])*\"°W.png\")\n",
    "end"
   ]
  }
 ],
 "metadata": {
  "kernelspec": {
   "display_name": "Julia 1.8.2",
   "language": "julia",
   "name": "julia-1.8"
  },
  "language_info": {
   "file_extension": ".jl",
   "mimetype": "application/julia",
   "name": "julia",
   "version": "1.8.2"
  }
 },
 "nbformat": 4,
 "nbformat_minor": 5
}
