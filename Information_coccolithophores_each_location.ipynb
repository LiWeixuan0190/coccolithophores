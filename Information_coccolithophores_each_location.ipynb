{
 "cells": [
  {
   "cell_type": "markdown",
   "id": "4ddd218e",
   "metadata": {},
   "source": [
    "## General information of coccolithophores at each location"
   ]
  },
  {
   "cell_type": "code",
   "execution_count": null,
   "id": "c4d3c551",
   "metadata": {},
   "outputs": [],
   "source": [
    "using NetCDF"
   ]
  },
  {
   "cell_type": "code",
   "execution_count": null,
   "id": "7e78a96b",
   "metadata": {},
   "outputs": [],
   "source": [
    "using XLSX"
   ]
  },
  {
   "cell_type": "code",
   "execution_count": null,
   "id": "871dc5b5",
   "metadata": {},
   "outputs": [],
   "source": [
    "folder_location=\"/nobackup1/stephdut/GUD_20151027/run15_151_grazsame3_temperature_new_pared_nomort2\""
   ]
  },
  {
   "cell_type": "code",
   "execution_count": null,
   "id": "93fc7090",
   "metadata": {},
   "outputs": [],
   "source": [
    "path3d=[]\n",
    "for i in 1:120\n",
    "    p=11544+(i-1)*24\n",
    "    a=joinpath(folder_location,\"3DAILY\",\"3d.00000\"*string(p)*\".nc\")\n",
    "    push!(path3d,a)\n",
    "end"
   ]
  },
  {
   "cell_type": "code",
   "execution_count": null,
   "id": "ab1117ca",
   "metadata": {},
   "outputs": [],
   "source": [
    "using Plots"
   ]
  },
  {
   "cell_type": "code",
   "execution_count": null,
   "id": "2df87356",
   "metadata": {},
   "outputs": [],
   "source": [
    "# establish tracers name array\n",
    "nm=[] \n",
    "for i in 1:39\n",
    "        a = 60+i\n",
    "        nm=push!(nm,string(a))\n",
    "end\n",
    "    push!(nm,\"0a\")\n",
    "    push!(nm,\"0b\")\n",
    "    push!(nm,\"0c\")\n",
    "    push!(nm,\"0d\")\n",
    "    push!(nm,\"0e\")\n",
    "    push!(nm,\"0f\")\n",
    "    push!(nm,\"0g\")\n",
    "    push!(nm,\"0h\")\n",
    "    push!(nm,\"0i\")\n",
    "    push!(nm,\"0j\")\n",
    "    push!(nm,\"0k\")\n",
    "\n",
    "# Build array    \n",
    "tm=zeros(120)\n",
    "sst = \"ncdata/SST_3daily.nc\"\n",
    "lat = ncread(sst,\"latitude\")\n",
    "lon = ncread(sst,\"longitude\")\n",
    "yearday = ncread(sst,\"yearday\")\n",
    "temp=ncread(sst,\"SST\")\n",
    "opt=[33.0,-3.0,1.0,5.0,9.0,13.0,17.0,21.0,25.0,29.0]\n",
    "\n",
    "# Write in excel    \n",
    "XLSX.openxlsx(\"/home/weixuan/Desktop/Jupyter notebook/biomass results/Times of coexistence (sum of each location).xlsx\",mode=\"rw\") do xf\n",
    "    sheet=xf[1]\n",
    "    XLSX.rename!(sheet,\"general information of coccolithophores and SST\")\n",
    "    \n",
    "    sheet[\"A1\"] = \"Abundance category\"\n",
    "    sheet[\"B1\"] = \"Biomass\"\n",
    "    sheet[\"C1\"] = \"Day\"\n",
    "    sheet[\"D1\"] = \"Coccolithophore type\"\n",
    "    sheet[\"E1\"] = \"Optimal temperature\"\n",
    "    sheet[\"F1\"] = \"SST\"\n",
    "    sheet[\"G1\"] = \"Latitude\"\n",
    "    sheet[\"H1\"] = \"Longitude\"\n",
    "\n",
    "    n=1\n",
    "        \n",
    "    for x in 1:360\n",
    "    for y in 1:160\n",
    "        for i in 1:120\n",
    "            for types in 1:50\n",
    "                n=n+1\n",
    "                t = ncread(path3d[i],\"T\")\n",
    "                tm[i] = Int(t[1]/3600.0/24.0-1442.0)\n",
    "                nmt=nm[types]\n",
    "                p_temp = ncread(path3d[i],\"TRAC\"*nmt)\n",
    "                if p_temp[x,y,1,1]>0.01\n",
    "                        sheet[\"A\"*string(n)]=\"high biomass\"\n",
    "                    else\n",
    "                        sheet[\"A\"*string(n)]=\"low biomass\"\n",
    "                    end\n",
    "                sheet[\"B\"*string(n)]=p_temp[x,y,1,1]\n",
    "                sheet[\"C\"*string(n)]=yearday[i]\n",
    "                sheet[\"D\"*string(n)]=types\n",
    "                sheet[\"E\"*string(n)]=opt[mod(types,10)+1]\n",
    "                sheet[\"F\"*string(n)]=temp[x,y,i]\n",
    "                sheet[\"G\"*string(n)]=lon[x]\n",
    "                sheet[\"H\"*string(n)]=lat[y]\n",
    "            end\n",
    "        end\n",
    "    end\n",
    "        \n",
    "    end\n",
    "end"
   ]
  }
 ],
 "metadata": {
  "kernelspec": {
   "display_name": "Julia 1.8.5",
   "language": "julia",
   "name": "julia-1.8"
  },
  "language_info": {
   "file_extension": ".jl",
   "mimetype": "application/julia",
   "name": "julia",
   "version": "1.8.5"
  }
 },
 "nbformat": 4,
 "nbformat_minor": 5
}
