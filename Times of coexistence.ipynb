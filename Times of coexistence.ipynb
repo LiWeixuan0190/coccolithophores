{
 "cells": [
  {
   "cell_type": "code",
   "execution_count": null,
   "id": "3bbbf589",
   "metadata": {},
   "outputs": [],
   "source": [
    "using Pkg; Pkg.add(\"NetCDF\")"
   ]
  },
  {
   "cell_type": "code",
   "execution_count": null,
   "id": "6db4b3bf",
   "metadata": {},
   "outputs": [],
   "source": [
    "using NetCDF"
   ]
  },
  {
   "cell_type": "code",
   "execution_count": null,
   "id": "eee588f3",
   "metadata": {},
   "outputs": [],
   "source": [
    "folder_location=\"/nobackup1/stephdut/GUD_20151027/run15_151_grazsame3_temperature_new_pared_nomort2\""
   ]
  },
  {
   "cell_type": "code",
   "execution_count": null,
   "id": "f1ce3219",
   "metadata": {},
   "outputs": [],
   "source": [
    "path3d=[]\n",
    "for i in 1:120\n",
    "    p=11544+(i-1)*24\n",
    "    a=joinpath(folder_location,\"3DAILY\",\"3d.00000\"*string(p)*\".nc\")\n",
    "    push!(path3d,a)\n",
    "end"
   ]
  },
  {
   "cell_type": "code",
   "execution_count": null,
   "id": "bc3719e9",
   "metadata": {},
   "outputs": [],
   "source": [
    "using Plots"
   ]
  },
  {
   "cell_type": "markdown",
   "id": "920628a6",
   "metadata": {},
   "source": [
    "### Type Description\n",
    "41- 50: coccolithophores, ESD 3.0um 51- 60: coccolithophores, ESD 4.5um 61- 70: coccolithophores, ESD 6.6um 71- 80: coccolithophores, ESD 9.8um 81- 90: coccolithophores, ESD 14um"
   ]
  },
  {
   "cell_type": "code",
   "execution_count": null,
   "id": "91389cc7",
   "metadata": {},
   "outputs": [],
   "source": [
    "# establish tracers name array\n",
    "nm=[] \n",
    "for i in 1:39\n",
    "        a = 60+i\n",
    "        nm=push!(nm,string(a))\n",
    "end\n",
    "    push!(nm,\"0a\")\n",
    "    push!(nm,\"0b\")\n",
    "    push!(nm,\"0c\")\n",
    "    push!(nm,\"0d\")\n",
    "    push!(nm,\"0e\")\n",
    "    push!(nm,\"0f\")\n",
    "    push!(nm,\"0g\")\n",
    "    push!(nm,\"0h\")\n",
    "    push!(nm,\"0i\")\n",
    "    push!(nm,\"0j\")\n",
    "    push!(nm,\"0k\")\n",
    "\n",
    "tm=zeros(120)\n",
    "p_total=zeros(50,120)\n",
    "row=zeros(120)\n",
    "col=zeros(120)\n",
    "rank_co=zeros(50,50)\n",
    "\n",
    "for x in 1:360\n",
    "for y in 1:160\n",
    "            \n",
    "for i in 1:120\n",
    "    for j in 1:50\n",
    "        t = ncread(path3d[i],\"T\")\n",
    "        tm[i] = Int(t[1]/3600.0/24.0-1442.0)\n",
    "        nmt=nm[j]\n",
    "        p_temp = ncread(path3d[i],\"TRAC\"*nmt)\n",
    "        p_total[j,i]=sum(p_temp[x,y,1,1])\n",
    "    end\n",
    "        \n",
    "    for j in 1:50\n",
    "        edge=50-j\n",
    "        for k in 1:edge\n",
    "            if(p_total[j,i]>0.01 && p_total[j+k,i]>0.01)\n",
    "                rank_co[j,j+k]=rank_co[j,j+k]+1\n",
    "                rank_co[j+k,j]=rank_co[j,j+k]\n",
    "            end\n",
    "        end\n",
    "    end\n",
    "end\n",
    "            \n",
    "end\n",
    "end\n"
   ]
  },
  {
   "cell_type": "code",
   "execution_count": null,
   "id": "dd44edf1",
   "metadata": {},
   "outputs": [],
   "source": [
    "# write\n",
    "XLSX.openxlsx(\"/home/weixuan/Desktop/Jupyter notebook/biomass results/Times of coexistence (sum of each location).xlsx\",mode=\"w\") do xf\n",
    "    sheet=xf[1]\n",
    "    XLSX.rename!(sheet,\"times of coexistence\")\n",
    "    sheet[\"A1\"]=rank_co\n",
    "end"
   ]
  }
 ],
 "metadata": {
  "kernelspec": {
   "display_name": "Julia 1.8.5",
   "language": "julia",
   "name": "julia-1.8"
  },
  "language_info": {
   "file_extension": ".jl",
   "mimetype": "application/julia",
   "name": "julia",
   "version": "1.8.5"
  }
 },
 "nbformat": 4,
 "nbformat_minor": 5
}
