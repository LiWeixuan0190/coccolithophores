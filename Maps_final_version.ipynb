{
 "cells": [
  {
   "cell_type": "markdown",
   "id": "0a443ad9",
   "metadata": {},
   "source": [
    "## Install package"
   ]
  },
  {
   "cell_type": "code",
   "execution_count": null,
   "id": "22fced40",
   "metadata": {},
   "outputs": [],
   "source": [
    "pip install cartopy"
   ]
  },
  {
   "cell_type": "code",
   "execution_count": null,
   "id": "f155dc94",
   "metadata": {},
   "outputs": [],
   "source": [
    "pip install xarray"
   ]
  },
  {
   "cell_type": "code",
   "execution_count": null,
   "id": "df14f6e5",
   "metadata": {},
   "outputs": [],
   "source": [
    "pip install cmocean"
   ]
  },
  {
   "cell_type": "markdown",
   "id": "6c0b0c41",
   "metadata": {},
   "source": [
    "## Import package"
   ]
  },
  {
   "cell_type": "code",
   "execution_count": null,
   "id": "7b491aa5",
   "metadata": {},
   "outputs": [],
   "source": [
    "import cartopy"
   ]
  },
  {
   "cell_type": "code",
   "execution_count": null,
   "id": "4d3aa93f",
   "metadata": {},
   "outputs": [],
   "source": [
    "import cartopy.crs as ccrs"
   ]
  },
  {
   "cell_type": "code",
   "execution_count": null,
   "id": "d35bb2d1",
   "metadata": {},
   "outputs": [],
   "source": [
    "import matplotlib.pyplot as plt"
   ]
  },
  {
   "cell_type": "code",
   "execution_count": null,
   "id": "3f411999",
   "metadata": {},
   "outputs": [],
   "source": [
    "import xarray as xr"
   ]
  },
  {
   "cell_type": "code",
   "execution_count": null,
   "id": "b7e3bd2d",
   "metadata": {},
   "outputs": [],
   "source": [
    "import numpy as np"
   ]
  },
  {
   "cell_type": "code",
   "execution_count": null,
   "id": "16fa3821",
   "metadata": {},
   "outputs": [],
   "source": [
    "import cmocean as com"
   ]
  },
  {
   "cell_type": "code",
   "execution_count": null,
   "id": "6aa63e69",
   "metadata": {},
   "outputs": [],
   "source": [
    "import cartopy.feature as cfeature"
   ]
  },
  {
   "cell_type": "code",
   "execution_count": null,
   "id": "858071ab",
   "metadata": {},
   "outputs": [],
   "source": [
    "from matplotlib import colorbar, colors"
   ]
  },
  {
   "cell_type": "code",
   "execution_count": null,
   "id": "ab48c6d2",
   "metadata": {},
   "outputs": [],
   "source": [
    "import scipy.interpolate\n",
    "from scipy.interpolate import interp2d"
   ]
  },
  {
   "cell_type": "markdown",
   "id": "7b739c3a",
   "metadata": {},
   "source": [
    "## Data of Biomass of coccolithophores"
   ]
  },
  {
   "cell_type": "markdown",
   "id": "b78b103f",
   "metadata": {},
   "source": [
    "### For all the coccolithophores"
   ]
  },
  {
   "cell_type": "code",
   "execution_count": null,
   "id": "a3bf75bd",
   "metadata": {},
   "outputs": [],
   "source": [
    "ds=xr.open_dataset(\"ncdata/biomass.nc\")\n",
    "bio=np.random.rand(160,360)\n",
    "j=0.0\n",
    "for i in range(50):\n",
    "    j=41+i\n",
    "    bio=bio+ds.CarbonBiomass.sel(PhyNum=str(j))"
   ]
  },
  {
   "cell_type": "code",
   "execution_count": null,
   "id": "3c28fc63",
   "metadata": {},
   "outputs": [],
   "source": [
    "bio_array=bio.to_numpy()"
   ]
  },
  {
   "cell_type": "code",
   "execution_count": null,
   "id": "a006897b",
   "metadata": {},
   "outputs": [],
   "source": [
    "bio_array"
   ]
  },
  {
   "cell_type": "markdown",
   "id": "92f89ace",
   "metadata": {},
   "source": [
    "### For different thermal types"
   ]
  },
  {
   "cell_type": "code",
   "execution_count": null,
   "id": "055f873a",
   "metadata": {},
   "outputs": [],
   "source": [
    "ds=xr.open_dataset(\"ncdata/biomass.nc\")\n",
    "bio=np.random.rand(10,5,160,360)\n",
    "k=0.0\n",
    "for i in (n+1 for n in range(10)):\n",
    "    for j in (n+1 for n in range(5)):\n",
    "        k=30+j*10+i\n",
    "        cb = ds.CarbonBiomass.sel(PhyNum=str(k)).to_numpy()\n",
    "        bio[i-1,j-1,:,:]=cb\n",
    "biot=np.sum(bio,axis=1) "
   ]
  },
  {
   "cell_type": "code",
   "execution_count": null,
   "id": "01d1e581",
   "metadata": {},
   "outputs": [],
   "source": [
    "biot.shape"
   ]
  },
  {
   "cell_type": "markdown",
   "id": "c9cf046f",
   "metadata": {},
   "source": [
    "## Maps of whole biomass"
   ]
  },
  {
   "cell_type": "code",
   "execution_count": null,
   "id": "62762144",
   "metadata": {},
   "outputs": [],
   "source": [
    "proj=ccrs.Robinson(central_longitude=0)\n",
    "pc=ccrs.PlateCarree()\n",
    "fig=plt.figure(figsize=(14,6))\n",
    "ax = fig.add_subplot(111,projection=proj)\n",
    "cax = fig.add_axes([0.9,0.1,0.02,0.9])  # x y width and height\n",
    "\n",
    "ax.coastlines()\n",
    "mappable=ax.pcolormesh(ds.longitude,ds.latitude,bio_array,transform=pc,cmap=com.cm.thermal)\n",
    "                     #vmin=1e-10,vmax=1.75)\n",
    "#plt.imshow(bio_array,interpolation='bicubic')\n",
    "ax.add_feature(cfeature.LAND,facecolor='black',zorder=10)\n",
    "#cbar = colorbar.ColorbarBase(ax, cmap=plt.get_cmap('coolwarm'),\n",
    " #                           norm=colors.Normalize(vmin=0.0,vmax=1e-9))\n",
    "#cbar.set_clim(1e-10,9e-10)\n",
    "ax.set_title('Biomass of the sum of all coccolithophores',size=20)\n",
    "\n",
    "cbar = plt.colorbar(mappable,cax=cax,orientation='vertical')\n",
    "#cbar.set_label(r\"$\\alpha$\")\n",
    "cbar.set_label(r\"$mmol$ $C$ $m^{-3}$\")\n",
    "#cbar.set_ticks(np.arange(0.5,1.5,0.1)) #resolution\n",
    "fig.savefig(\"/home/weixuan/Desktop/Jupyter notebook/maps/map_sum.png\")"
   ]
  },
  {
   "cell_type": "markdown",
   "id": "dec1288a",
   "metadata": {},
   "source": [
    "## Maps of each thermal type"
   ]
  },
  {
   "cell_type": "code",
   "execution_count": null,
   "id": "cc132249",
   "metadata": {},
   "outputs": [],
   "source": [
    "for n in (x+1 for x in range(10)):\n",
    "    proj=ccrs.Robinson(central_longitude=0)\n",
    "    pc=ccrs.PlateCarree()\n",
    "    fig=plt.figure(figsize=(14,6))\n",
    "    ax = fig.add_subplot(111,projection=proj)\n",
    "    cax = fig.add_axes([0.9,0.1,0.02,0.9])  # x y width and height\n",
    "\n",
    "    ax.coastlines()\n",
    "    mappable=ax.pcolormesh(ds.longitude,ds.latitude,biot[n-1,:,:],transform=pc,cmap=com.cm.thermal)\n",
    "    ax.add_feature(cfeature.LAND,facecolor='black',zorder=10)\n",
    "    ax.set_title('Biomass of the sum of thermal type'+str(n),size=20)\n",
    "    cbar = plt.colorbar(mappable,cax=cax,orientation='vertical')\n",
    "    cbar.set_label(r\"$mmol$ $C$ $m^{-3}$\")\n",
    "    fig.savefig(\"/home/weixuan/Desktop/Jupyter notebook/maps/map_thermal\"+str(n)+\".png\")"
   ]
  }
 ],
 "metadata": {
  "kernelspec": {
   "display_name": "pykernel3_map",
   "language": "python",
   "name": "pykernel3_map"
  },
  "language_info": {
   "codemirror_mode": {
    "name": "ipython",
    "version": 3
   },
   "file_extension": ".py",
   "mimetype": "text/x-python",
   "name": "python",
   "nbconvert_exporter": "python",
   "pygments_lexer": "ipython3",
   "version": "3.11.0"
  }
 },
 "nbformat": 4,
 "nbformat_minor": 5
}
